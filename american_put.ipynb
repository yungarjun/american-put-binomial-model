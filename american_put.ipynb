{
 "cells": [
  {
   "cell_type": "code",
   "execution_count": null,
   "id": "e68f8346",
   "metadata": {},
   "outputs": [],
   "source": [
    "def BinomialAmericanPut(S, K, u, d, R, N):\n",
    "    dt = R / N  # time step\n",
    "    p = (R - d) / (u - d)  # probability of up movement\n",
    "    q = 1 - p  # probability of down movement\n",
    "\n",
    "    # set up the lattice\n",
    "    lattice = np.zeros((N+1, N+1))\n",
    "    for i in range(N+1):\n",
    "        for j in range(i+1):\n",
    "            lattice[j, i] = S * (u ** (i-j)) * (d ** j) #price value of stock at each time point\n",
    "           \n",
    "\n",
    "    # set up the final values for the option\n",
    "    lattice[:, N] = np.maximum(K - lattice[:, N], 0) #Max between strike price minus stock and zero\n",
    "    \n",
    "\n",
    "    # iterate backwards through the lattice\n",
    "    for i in range(N-1, -1, -1):\n",
    "        for j in range(i+1):\n",
    "            exercise_value = K - lattice[j, i]  # immediate exercise value\n",
    "            hold_value = (p*lattice[j, i+1] + q*lattice[j+1, i+1]) / R  # hold value\n",
    "            lattice[j, i] = max(exercise_value, hold_value)  # update value\n",
    "       \n",
    "    return lattice[0, 0]\n",
    "    \n",
    "stock = float(input('Enter the underlying stock price: '))\n",
    "strike = float(input('Enter the strike price: '))\n",
    "u = float(input('Enter the up factor: '))\n",
    "d = float(input('Enter the down factor: '))\n",
    "R = float(input('Enter the accumulation factor: '))\n",
    "N = int(input('Enter the number of time steps: '))\n",
    "print('The option price is: ' + str((BinomialAmericanPut(stock,strike,u,d,R,N))))"
   ]
  }
 ],
 "metadata": {
  "kernelspec": {
   "display_name": "Python 3 (ipykernel)",
   "language": "python",
   "name": "python3"
  },
  "language_info": {
   "codemirror_mode": {
    "name": "ipython",
    "version": 3
   },
   "file_extension": ".py",
   "mimetype": "text/x-python",
   "name": "python",
   "nbconvert_exporter": "python",
   "pygments_lexer": "ipython3",
   "version": "3.9.13"
  }
 },
 "nbformat": 4,
 "nbformat_minor": 5
}
